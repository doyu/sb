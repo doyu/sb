{
 "cells": [
  {
   "cell_type": "markdown",
   "metadata": {
    "id": "5pWkOJZPhAR_"
   },
   "source": [
    "# My 1st blog post\n",
    "\n",
    "> Test, test, test\n",
    "\n",
    "- toc: true\n",
    "- badges: true\n",
    "- comments: true\n",
    "- categories: [gabage, testing]\n",
    "- image: images/IMG20210205092314.png"
   ]
  },
  {
   "cell_type": "markdown",
   "metadata": {
    "id": "sbuhmRCdhf42"
   },
   "source": [
    "Topic 1\n"
   ]
  },
  {
   "cell_type": "markdown",
   "metadata": {
    "id": "J_VZSMoOhl4q"
   },
   "source": [
    "Topic 2"
   ]
  },
  {
   "cell_type": "markdown",
   "metadata": {
    "id": "AQn1Idl4hnAJ"
   },
   "source": [
    "Topic 3"
   ]
  }
 ],
 "metadata": {
  "colab": {
   "name": "Untitled3.ipynb",
   "provenance": []
  },
  "kernelspec": {
   "display_name": "Python 3",
   "language": "python",
   "name": "python3"
  },
  "language_info": {
   "codemirror_mode": {
    "name": "ipython",
    "version": 3
   },
   "file_extension": ".py",
   "mimetype": "text/x-python",
   "name": "python",
   "nbconvert_exporter": "python",
   "pygments_lexer": "ipython3",
   "version": "3.8.8"
  }
 },
 "nbformat": 4,
 "nbformat_minor": 4
}
