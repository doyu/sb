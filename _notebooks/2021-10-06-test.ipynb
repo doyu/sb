{
  "nbformat": 4,
  "nbformat_minor": 0,
  "metadata": {
    "colab": {
      "name": "Untitled3.ipynb",
      "provenance": []
    },
    "kernelspec": {
      "name": "python3",
      "display_name": "Python 3"
    },
    "language_info": {
      "name": "python"
    }
  },
  "cells": [
    {
      "cell_type": "markdown",
      "metadata": {
        "id": "5pWkOJZPhAR_"
      },
      "source": [
        "# My 1st blog post\n",
        "\n",
        "> Test, test, test\n",
        "\n",
        "- toc: true\n",
        "- badges: true\n",
        "- comments: true\n",
        "- categories: [gabage, testing]\n",
        "- image: images/title.png"
      ]
    },
    {
      "cell_type": "markdown",
      "metadata": {
        "id": "sbuhmRCdhf42"
      },
      "source": [
        "Topic 1\n"
      ]
    },
    {
      "cell_type": "markdown",
      "metadata": {
        "id": "J_VZSMoOhl4q"
      },
      "source": [
        "Topic 2"
      ]
    },
    {
      "cell_type": "markdown",
      "metadata": {
        "id": "AQn1Idl4hnAJ"
      },
      "source": [
        "Topic 3"
      ]
    }
  ]
}